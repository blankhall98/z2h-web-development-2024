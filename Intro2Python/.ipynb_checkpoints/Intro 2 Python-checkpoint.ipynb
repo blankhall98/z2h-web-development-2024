{
 "cells": [
  {
   "cell_type": "markdown",
   "metadata": {},
   "source": [
    "# Python desde Cero\n",
    "### Un curso de zero2hero\n",
    "Profesor: Jonatan BlankHall\n",
    "\n",
    "##### Temario:\n",
    "1. Variables\n",
    "2. Condicionales\n",
    "3. Listas y Diccionarios\n",
    "4. Ciclos\n",
    "5. Funciones\n",
    "6. Objetos"
   ]
  },
  {
   "cell_type": "markdown",
   "metadata": {},
   "source": [
    "#### 1. Variables"
   ]
  },
  {
   "cell_type": "code",
   "execution_count": 15,
   "metadata": {},
   "outputs": [
    {
     "name": "stdout",
     "output_type": "stream",
     "text": [
      "name: sofia\n",
      "age: 22\n",
      "mail: sofia@mail.com\n"
     ]
    }
   ],
   "source": [
    "name = input('name: ')\n",
    "age = input('age: ')\n",
    "mail = input('mail: ')"
   ]
  },
  {
   "cell_type": "code",
   "execution_count": 16,
   "metadata": {},
   "outputs": [
    {
     "name": "stdout",
     "output_type": "stream",
     "text": [
      "Hola, mi nombre es sofia. Tengo 22 años. Mi mail es sofia@mail.com\n"
     ]
    }
   ],
   "source": [
    "print(f'Hola, mi nombre es {name}. Tengo {age} años. Mi mail es {mail}')"
   ]
  },
  {
   "cell_type": "markdown",
   "metadata": {},
   "source": [
    "##### 1.2 Operaciones con Variables"
   ]
  },
  {
   "cell_type": "code",
   "execution_count": 17,
   "metadata": {},
   "outputs": [],
   "source": [
    "x = 10\n",
    "y = -1\n",
    "z = 2"
   ]
  },
  {
   "cell_type": "code",
   "execution_count": 31,
   "metadata": {},
   "outputs": [
    {
     "data": {
      "text/plain": [
       "0"
      ]
     },
     "execution_count": 31,
     "metadata": {},
     "output_type": "execute_result"
    }
   ],
   "source": [
    "amigos = 3\n",
    "rebanadas = 8\n",
    "pizzas = 3\n",
    "\n",
    "(pizzas*rebanadas)%amigos"
   ]
  },
  {
   "cell_type": "code",
   "execution_count": 35,
   "metadata": {},
   "outputs": [],
   "source": [
    "palabra = \"na\""
   ]
  },
  {
   "cell_type": "code",
   "execution_count": 36,
   "metadata": {},
   "outputs": [
    {
     "data": {
      "text/plain": [
       "'nananananananananana'"
      ]
     },
     "execution_count": 36,
     "metadata": {},
     "output_type": "execute_result"
    }
   ],
   "source": [
    "palabra*10"
   ]
  },
  {
   "cell_type": "markdown",
   "metadata": {},
   "source": [
    "#### 2. Condicionales"
   ]
  },
  {
   "cell_type": "markdown",
   "metadata": {},
   "source": [
    "##### Boolean"
   ]
  },
  {
   "cell_type": "code",
   "execution_count": 49,
   "metadata": {},
   "outputs": [
    {
     "name": "stdout",
     "output_type": "stream",
     "text": [
      "age: 17.9999999999999999999999999999999999999999\n",
      "Puedes acceder\n"
     ]
    }
   ],
   "source": [
    "age = input('age: ')\n",
    "if float(age) >= 18:\n",
    "    print('Puedes acceder')\n",
    "else:\n",
    "    print('No puedes acceder')"
   ]
  },
  {
   "cell_type": "code",
   "execution_count": 92,
   "metadata": {},
   "outputs": [
    {
     "name": "stdout",
     "output_type": "stream",
     "text": [
      "username: blankhall\n",
      "password: 1234\n",
      "logged in!\n"
     ]
    }
   ],
   "source": [
    "username = input('username: ')\n",
    "password = input('password: ')\n",
    "database = {\n",
    "    'username' : 'blankhall',\n",
    "    'password' : '1234'\n",
    "}\n",
    "if username == database['username'] and password == database['password']:\n",
    "    print('logged in!')\n",
    "else:\n",
    "    print('username or password not valid')"
   ]
  },
  {
   "cell_type": "code",
   "execution_count": 63,
   "metadata": {},
   "outputs": [
    {
     "name": "stdout",
     "output_type": "stream",
     "text": [
      "rechazar candidato\n"
     ]
    }
   ],
   "source": [
    "#simular un tinder\n",
    "apariencia_goal = 'atractivo'\n",
    "edad_goal = 25\n",
    "\n",
    "apariencia_candidato = 'regular'\n",
    "edad_candidato = 26\n",
    "\n",
    "if apariencia_candidato == apariencia_goal or edad_candidato <= edad_goal:\n",
    "    print('aceptar candidato')\n",
    "else:\n",
    "    print('rechazar candidato')"
   ]
  },
  {
   "cell_type": "markdown",
   "metadata": {},
   "source": [
    "#### 3. Listas y Diccionarios"
   ]
  },
  {
   "cell_type": "markdown",
   "metadata": {},
   "source": [
    "##### Listas"
   ]
  },
  {
   "cell_type": "code",
   "execution_count": 65,
   "metadata": {},
   "outputs": [],
   "source": [
    "amigos = ['angel','paola','mario','fabian']\n",
    "telefonos = ['1','9','2','3']"
   ]
  },
  {
   "cell_type": "code",
   "execution_count": 77,
   "metadata": {},
   "outputs": [
    {
     "name": "stdout",
     "output_type": "stream",
     "text": [
      "angel no era considerado, por fortuna, un amigo\n"
     ]
    }
   ],
   "source": [
    "enemigo = 'angel'\n",
    "if enemigo in amigos:\n",
    "    amigos.remove(enemigo)\n",
    "    print(f'el traidor de {enemigo}, fue eliminado de la lista de amigos!')\n",
    "else:\n",
    "    print(f'{enemigo} no era considerado, por fortuna, un amigo')"
   ]
  },
  {
   "cell_type": "markdown",
   "metadata": {},
   "source": [
    "##### Diccionarios"
   ]
  },
  {
   "cell_type": "code",
   "execution_count": 101,
   "metadata": {},
   "outputs": [],
   "source": [
    "amigos_dict = {\n",
    "    'angel': {\n",
    "        'edad': 24,\n",
    "        'telefono': 123,\n",
    "        'cumpleaños': '12/03'\n",
    "    },\n",
    "    'paola': {\n",
    "        'edad': 29,\n",
    "        'telefono': 125,\n",
    "        'cumpleaños': '15/07'\n",
    "    }\n",
    "}"
   ]
  },
  {
   "cell_type": "code",
   "execution_count": 102,
   "metadata": {},
   "outputs": [],
   "source": [
    "amigos_dict['fabian'] = {'edad':23,'telefono':156,'cumpleaños':'08/08'}"
   ]
  },
  {
   "cell_type": "code",
   "execution_count": 103,
   "metadata": {},
   "outputs": [
    {
     "data": {
      "text/plain": [
       "{'angel': {'edad': 24, 'telefono': 123, 'cumpleaños': '12/03'},\n",
       " 'paola': {'edad': 29, 'telefono': 125, 'cumpleaños': '15/07'},\n",
       " 'fabian': {'edad': 23, 'telefono': 156, 'cumpleaños': '08/08'}}"
      ]
     },
     "execution_count": 103,
     "metadata": {},
     "output_type": "execute_result"
    }
   ],
   "source": [
    "amigos_dict"
   ]
  },
  {
   "cell_type": "markdown",
   "metadata": {},
   "source": [
    "#### 4. Ciclos"
   ]
  },
  {
   "cell_type": "code",
   "execution_count": 95,
   "metadata": {},
   "outputs": [],
   "source": [
    "amigos = ['amigo1','amigo2','amigo3','amigo4']"
   ]
  },
  {
   "cell_type": "code",
   "execution_count": 96,
   "metadata": {},
   "outputs": [
    {
     "name": "stdout",
     "output_type": "stream",
     "text": [
      "Hola amigo1\n",
      "Hola amigo2\n",
      "Hola amigo3\n",
      "Hola amigo4\n"
     ]
    }
   ],
   "source": [
    "for a in amigos:\n",
    "    print(f'Hola {a}')"
   ]
  },
  {
   "cell_type": "code",
   "execution_count": 97,
   "metadata": {},
   "outputs": [],
   "source": [
    "edades = [19,22,25,17,16]"
   ]
  },
  {
   "cell_type": "code",
   "execution_count": 98,
   "metadata": {},
   "outputs": [
    {
     "name": "stdout",
     "output_type": "stream",
     "text": [
      "puedes pasar\n",
      "puedes pasar\n",
      "puedes pasar\n",
      "no puedes pasar\n",
      "no puedes pasar\n"
     ]
    }
   ],
   "source": [
    "for e in edades:\n",
    "    if e >= 18:\n",
    "        print('puedes pasar')\n",
    "    else:\n",
    "        print('no puedes pasar')"
   ]
  },
  {
   "cell_type": "code",
   "execution_count": 111,
   "metadata": {},
   "outputs": [
    {
     "name": "stdout",
     "output_type": "stream",
     "text": [
      "El amigo angel tiene 24 años, y cumple 25 el día 12/03\n",
      "El amigo paola tiene 29 años, y cumple 30 el día 15/07\n",
      "El amigo fabian tiene 23 años, y cumple 24 el día 08/08\n"
     ]
    }
   ],
   "source": [
    "for a in amigos_dict.keys():\n",
    "    print(f\"El amigo {a} tiene {amigos_dict[a]['edad']} años, y cumple {amigos_dict[a]['edad']+1} el día {amigos_dict[a]['cumpleaños']}\")"
   ]
  },
  {
   "cell_type": "code",
   "execution_count": 118,
   "metadata": {},
   "outputs": [
    {
     "name": "stdout",
     "output_type": "stream",
     "text": [
      "100\n",
      "110.00000000000001\n",
      "121.00000000000003\n",
      "133.10000000000005\n",
      "146.41000000000008\n",
      "161.0510000000001\n",
      "177.15610000000012\n",
      "194.87171000000015\n",
      "214.3588810000002\n",
      "235.79476910000022\n",
      "259.37424601000026\n"
     ]
    }
   ],
   "source": [
    "result = 100\n",
    "i = 10/100\n",
    "for x in range(10):\n",
    "    print(result)\n",
    "    result = result*(1+i)\n",
    "print(result)"
   ]
  },
  {
   "cell_type": "markdown",
   "metadata": {},
   "source": [
    "#### 5. Funciones"
   ]
  },
  {
   "cell_type": "code",
   "execution_count": 119,
   "metadata": {},
   "outputs": [],
   "source": [
    "def login():\n",
    "\n",
    "    username = input('username: ')\n",
    "    password = input('password: ')\n",
    "    database = {\n",
    "        'username' : 'blankhall',\n",
    "        'password' : '1234'\n",
    "    }\n",
    "    if username == database['username'] and password == database['password']:\n",
    "        print('logged in!')\n",
    "    else:\n",
    "        print('username or password not valid')"
   ]
  },
  {
   "cell_type": "code",
   "execution_count": 120,
   "metadata": {},
   "outputs": [
    {
     "name": "stdout",
     "output_type": "stream",
     "text": [
      "username: blankhall\n",
      "password: 1234\n",
      "logged in!\n"
     ]
    }
   ],
   "source": [
    "login()"
   ]
  },
  {
   "cell_type": "code",
   "execution_count": 124,
   "metadata": {},
   "outputs": [],
   "source": [
    "def login(username,password):\n",
    "    database = {\n",
    "        'username' : 'blankhall',\n",
    "        'password' : '1234'\n",
    "    }\n",
    "    if username == database['username'] and password == database['password']:\n",
    "        return True\n",
    "    else:\n",
    "        return False"
   ]
  },
  {
   "cell_type": "code",
   "execution_count": 127,
   "metadata": {},
   "outputs": [
    {
     "name": "stdout",
     "output_type": "stream",
     "text": [
      "access\n"
     ]
    }
   ],
   "source": [
    "if login('blankhall','1234'):\n",
    "    print('access')\n",
    "else:\n",
    "    print('deny')"
   ]
  },
  {
   "cell_type": "code",
   "execution_count": 135,
   "metadata": {},
   "outputs": [],
   "source": [
    "def IC(monto,interes,inf,tiempo):\n",
    "    for t in range(tiempo):\n",
    "        print(monto*(1+(interes-inf)/100)**t)"
   ]
  },
  {
   "cell_type": "code",
   "execution_count": 136,
   "metadata": {},
   "outputs": [
    {
     "name": "stdout",
     "output_type": "stream",
     "text": [
      "25000.0\n",
      "26125.0\n",
      "27300.624999999996\n",
      "28529.153124999993\n",
      "29812.96501562499\n",
      "31154.548441328116\n",
      "32556.50312118788\n",
      "34021.54576164133\n",
      "35552.51532091518\n",
      "37152.378510356364\n"
     ]
    }
   ],
   "source": [
    "IC(25000,11.5,7,10)"
   ]
  },
  {
   "cell_type": "markdown",
   "metadata": {},
   "source": [
    "#### 6. Objetos"
   ]
  },
  {
   "cell_type": "code",
   "execution_count": 150,
   "metadata": {},
   "outputs": [],
   "source": [
    "class Duck:\n",
    "    \n",
    "    def __init__(self,name,color):\n",
    "        self.name = name\n",
    "        self.color = color\n",
    "    \n",
    "    def sound(self,n):\n",
    "        print('Quack! '*n)\n",
    "        \n",
    "    def describe(self):\n",
    "        print(f'Hola, quack, mi nombre es {self.name} y mi color es {self.color}')"
   ]
  },
  {
   "cell_type": "code",
   "execution_count": 151,
   "metadata": {},
   "outputs": [],
   "source": [
    "donald = Duck('donald','blanco')\n",
    "lucas = Duck('lucas','negro')"
   ]
  },
  {
   "cell_type": "code",
   "execution_count": 152,
   "metadata": {},
   "outputs": [
    {
     "name": "stdout",
     "output_type": "stream",
     "text": [
      "Hola, quack, mi nombre es donald y mi color es blanco\n"
     ]
    }
   ],
   "source": [
    "donald.describe()"
   ]
  },
  {
   "cell_type": "code",
   "execution_count": 153,
   "metadata": {},
   "outputs": [
    {
     "name": "stdout",
     "output_type": "stream",
     "text": [
      "Hola, quack, mi nombre es lucas y mi color es negro\n"
     ]
    }
   ],
   "source": [
    "lucas.describe()"
   ]
  },
  {
   "cell_type": "code",
   "execution_count": 154,
   "metadata": {},
   "outputs": [],
   "source": [
    "class User:\n",
    "    \n",
    "    def __init__(self,username,mail):\n",
    "        self.username = username\n",
    "        self.mail = mail\n",
    "        \n",
    "    def set_password(self):\n",
    "        password = input('create password: ')\n",
    "        self.password = password"
   ]
  },
  {
   "cell_type": "code",
   "execution_count": 158,
   "metadata": {},
   "outputs": [],
   "source": [
    "def create_user():\n",
    "    usr = input('create username: ')\n",
    "    mail = input('enter mail: ')\n",
    "    new_user = User(usr,mail)\n",
    "    new_user.set_password()\n",
    "    return new_user"
   ]
  },
  {
   "cell_type": "code",
   "execution_count": 159,
   "metadata": {},
   "outputs": [
    {
     "name": "stdout",
     "output_type": "stream",
     "text": [
      "create username: blankhall\n",
      "enter mail: blank@mail.com\n",
      "create password: 123\n"
     ]
    }
   ],
   "source": [
    "new_user = create_user()"
   ]
  },
  {
   "cell_type": "code",
   "execution_count": 165,
   "metadata": {},
   "outputs": [
    {
     "data": {
      "text/plain": [
       "'456'"
      ]
     },
     "execution_count": 165,
     "metadata": {},
     "output_type": "execute_result"
    }
   ],
   "source": [
    "new_user.password"
   ]
  }
 ],
 "metadata": {
  "kernelspec": {
   "display_name": "Python 3",
   "language": "python",
   "name": "python3"
  },
  "language_info": {
   "codemirror_mode": {
    "name": "ipython",
    "version": 3
   },
   "file_extension": ".py",
   "mimetype": "text/x-python",
   "name": "python",
   "nbconvert_exporter": "python",
   "pygments_lexer": "ipython3",
   "version": "3.8.5"
  }
 },
 "nbformat": 4,
 "nbformat_minor": 4
}
